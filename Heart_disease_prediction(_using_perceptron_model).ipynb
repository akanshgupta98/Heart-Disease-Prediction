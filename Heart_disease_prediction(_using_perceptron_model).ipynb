{
  "nbformat": 4,
  "nbformat_minor": 0,
  "metadata": {
    "colab": {
      "name": "Heart_disease_prediction( using perceptron model).ipynb",
      "provenance": [],
      "collapsed_sections": [
        "inrlXIpbu0zn",
        "0EhwTKZsu6LB",
        "3AbZ2X4ryrw1",
        "cCf6qICFGVV5",
        "w9tuXTXYHUAF",
        "3m-3GdJax-Pw",
        "m50_dEnZ0xqx"
      ],
      "authorship_tag": "ABX9TyM5uZ76aVWg+UYyv5otJ8BK",
      "include_colab_link": true
    },
    "kernelspec": {
      "name": "python3",
      "display_name": "Python 3"
    }
  },
  "cells": [
    {
      "cell_type": "markdown",
      "metadata": {
        "id": "view-in-github",
        "colab_type": "text"
      },
      "source": [
        "<a href=\"https://colab.research.google.com/github/akanshgupta98/machine-learning/blob/Deep-Learning-technique/Heart_disease_prediction(_using_perceptron_model).ipynb\" target=\"_parent\"><img src=\"https://colab.research.google.com/assets/colab-badge.svg\" alt=\"Open In Colab\"/></a>"
      ]
    },
    {
      "cell_type": "markdown",
      "metadata": {
        "id": "inrlXIpbu0zn",
        "colab_type": "text"
      },
      "source": [
        "# Uploading Dataset from drive to colab"
      ]
    },
    {
      "cell_type": "code",
      "metadata": {
        "id": "NeMMw-wltuDF",
        "colab_type": "code",
        "outputId": "770f658d-8b54-4ba5-d9c7-b9079418fc9b",
        "colab": {
          "base_uri": "https://localhost:8080/",
          "height": 51
        }
      },
      "source": [
        "# Import PyDrive and associated libraries.\n",
        "# This only needs to be done once per notebook.\n",
        "from pydrive.auth import GoogleAuth\n",
        "from pydrive.drive import GoogleDrive\n",
        "from google.colab import auth\n",
        "from oauth2client.client import GoogleCredentials\n",
        "\n",
        "# Authenticate and create the PyDrive client.\n",
        "# This only needs to be done once per notebook.\n",
        "auth.authenticate_user()\n",
        "gauth = GoogleAuth()\n",
        "gauth.credentials = GoogleCredentials.get_application_default()\n",
        "drive = GoogleDrive(gauth)\n",
        "\n",
        "# List .txt files in the root.\n",
        "#\n",
        "# Search query reference:\n",
        "# https://developers.google.com/drive/v2/web/search-parameters\n",
        "listed = drive.ListFile({'q': \"title contains '.csv' and 'root' in parents\"}).GetList()\n",
        "for file in listed:\n",
        "  print('title {}, id {}'.format(file['title'], file['id']))"
      ],
      "execution_count": 0,
      "outputs": [
        {
          "output_type": "stream",
          "text": [
            "title processedheart.csv, id 1EHKw30UQU9Qu7uSjy5nUiViwahp7oG2z\n",
            "title new_emotion (2).csv, id 1cb7WbuJxty8DgSQekm-OlpZvjCs-LLyl\n"
          ],
          "name": "stdout"
        }
      ]
    },
    {
      "cell_type": "code",
      "metadata": {
        "id": "7jyLZeHDth3c",
        "colab_type": "code",
        "colab": {}
      },
      "source": [
        "# Import PyDrive and associated libraries.\n",
        "# This only needs to be done once per notebook.\n",
        "# from pydrive.auth import GoogleAuth\n",
        "# from pydrive.drive import GoogleDrive\n",
        "# from google.colab import auth\n",
        "# from oauth2client.client import GoogleCredentials\n",
        "\n",
        "# # Authenticate and create the PyDrive client.\n",
        "# # This only needs to be done once per notebook.\n",
        "# auth.authenticate_user()\n",
        "# gauth = GoogleAuth()\n",
        "# gauth.credentials = GoogleCredentials.get_application_default()\n",
        "# drive = GoogleDrive(gauth)\n",
        "\n",
        "# Download a file based on its file ID.\n",
        "#\n",
        "# A file ID looks like: laggVyWshwcyP6kEI-y_W3P8D26sz\n",
        "file_id = '1EHKw30UQU9Qu7uSjy5nUiViwahp7oG2z'\n",
        "downloaded = drive.CreateFile({'id': file_id})\n",
        "#print('Downloaded content \"{}\"'.format(downloaded.GetContentString()))"
      ],
      "execution_count": 0,
      "outputs": []
    },
    {
      "cell_type": "code",
      "metadata": {
        "id": "qXpmrGNyuH-d",
        "colab_type": "code",
        "colab": {}
      },
      "source": [
        "downloaded.GetContentFile('heart_dataset.csv')"
      ],
      "execution_count": 0,
      "outputs": []
    },
    {
      "cell_type": "code",
      "metadata": {
        "id": "9Qzh6zAtuuaM",
        "colab_type": "code",
        "outputId": "dbde6539-95ed-4602-9824-739afe696733",
        "colab": {
          "base_uri": "https://localhost:8080/",
          "height": 34
        }
      },
      "source": [
        "!ls"
      ],
      "execution_count": 0,
      "outputs": [
        {
          "output_type": "stream",
          "text": [
            "adc.json  heart_dataset.csv  sample_data\n"
          ],
          "name": "stdout"
        }
      ]
    },
    {
      "cell_type": "markdown",
      "metadata": {
        "id": "0EhwTKZsu6LB",
        "colab_type": "text"
      },
      "source": [
        "#Loading Dataset"
      ]
    },
    {
      "cell_type": "code",
      "metadata": {
        "id": "DEl0ZvUhu8Xg",
        "colab_type": "code",
        "colab": {}
      },
      "source": [
        "import pandas as pd\n",
        "import numpy as np"
      ],
      "execution_count": 0,
      "outputs": []
    },
    {
      "cell_type": "code",
      "metadata": {
        "id": "WWHvJPiTvBta",
        "colab_type": "code",
        "colab": {}
      },
      "source": [
        "data=pd.read_csv('heart_dataset.csv',names='age sex cp trestbps chol fbs restecg thalac exang oldpeak slope nmaj thal output'.split())"
      ],
      "execution_count": 0,
      "outputs": []
    },
    {
      "cell_type": "code",
      "metadata": {
        "id": "W4Q6VxjceF-e",
        "colab_type": "code",
        "colab": {}
      },
      "source": [
        "#making a copy of dataset.\n",
        "dataset=pd.read_csv('heart_dataset.csv',names='age sex cp trestbps chol fbs restecg thalac exang oldpeak slope nmaj thal output'.split())"
      ],
      "execution_count": 0,
      "outputs": []
    },
    {
      "cell_type": "markdown",
      "metadata": {
        "id": "3AbZ2X4ryrw1",
        "colab_type": "text"
      },
      "source": [
        "# Preprocessing"
      ]
    },
    {
      "cell_type": "code",
      "metadata": {
        "id": "Btihrc-xIDn3",
        "colab_type": "code",
        "outputId": "a005db92-4ae8-40ae-cc4d-546bbb1672d8",
        "colab": {
          "base_uri": "https://localhost:8080/",
          "height": 142
        }
      },
      "source": [
        "#visualising the dataset for encoding.\n",
        "dataset.groupby('sex').mean()"
      ],
      "execution_count": 0,
      "outputs": [
        {
          "output_type": "execute_result",
          "data": {
            "text/html": [
              "<div>\n",
              "<style scoped>\n",
              "    .dataframe tbody tr th:only-of-type {\n",
              "        vertical-align: middle;\n",
              "    }\n",
              "\n",
              "    .dataframe tbody tr th {\n",
              "        vertical-align: top;\n",
              "    }\n",
              "\n",
              "    .dataframe thead th {\n",
              "        text-align: right;\n",
              "    }\n",
              "</style>\n",
              "<table border=\"1\" class=\"dataframe\">\n",
              "  <thead>\n",
              "    <tr style=\"text-align: right;\">\n",
              "      <th></th>\n",
              "      <th>age</th>\n",
              "      <th>cp</th>\n",
              "      <th>trestbps</th>\n",
              "      <th>chol</th>\n",
              "      <th>fbs</th>\n",
              "      <th>restecg</th>\n",
              "      <th>thalac</th>\n",
              "      <th>exang</th>\n",
              "      <th>oldpeak</th>\n",
              "      <th>slope</th>\n",
              "      <th>output</th>\n",
              "    </tr>\n",
              "    <tr>\n",
              "      <th>sex</th>\n",
              "      <th></th>\n",
              "      <th></th>\n",
              "      <th></th>\n",
              "      <th></th>\n",
              "      <th></th>\n",
              "      <th></th>\n",
              "      <th></th>\n",
              "      <th></th>\n",
              "      <th></th>\n",
              "      <th></th>\n",
              "      <th></th>\n",
              "    </tr>\n",
              "  </thead>\n",
              "  <tbody>\n",
              "    <tr>\n",
              "      <th>0</th>\n",
              "      <td>55.721649</td>\n",
              "      <td>3.144330</td>\n",
              "      <td>133.340206</td>\n",
              "      <td>261.752577</td>\n",
              "      <td>0.123711</td>\n",
              "      <td>0.958763</td>\n",
              "      <td>151.226804</td>\n",
              "      <td>0.226804</td>\n",
              "      <td>0.867010</td>\n",
              "      <td>1.567010</td>\n",
              "      <td>0.536082</td>\n",
              "    </tr>\n",
              "    <tr>\n",
              "      <th>1</th>\n",
              "      <td>53.834951</td>\n",
              "      <td>3.165049</td>\n",
              "      <td>130.912621</td>\n",
              "      <td>239.601942</td>\n",
              "      <td>0.160194</td>\n",
              "      <td>1.004854</td>\n",
              "      <td>148.844660</td>\n",
              "      <td>0.373786</td>\n",
              "      <td>1.120874</td>\n",
              "      <td>1.616505</td>\n",
              "      <td>1.126214</td>\n",
              "    </tr>\n",
              "  </tbody>\n",
              "</table>\n",
              "</div>"
            ],
            "text/plain": [
              "           age        cp    trestbps  ...   oldpeak     slope    output\n",
              "sex                                   ...                              \n",
              "0    55.721649  3.144330  133.340206  ...  0.867010  1.567010  0.536082\n",
              "1    53.834951  3.165049  130.912621  ...  1.120874  1.616505  1.126214\n",
              "\n",
              "[2 rows x 11 columns]"
            ]
          },
          "metadata": {
            "tags": []
          },
          "execution_count": 688
        }
      ]
    },
    {
      "cell_type": "code",
      "metadata": {
        "id": "QHD2-CrveNIi",
        "colab_type": "code",
        "outputId": "15ab98c9-b23c-4d40-bd25-400005edc467",
        "colab": {
          "base_uri": "https://localhost:8080/",
          "height": 204
        }
      },
      "source": [
        "\n",
        "dataset.groupby('thal').mean()"
      ],
      "execution_count": 0,
      "outputs": [
        {
          "output_type": "execute_result",
          "data": {
            "text/html": [
              "<div>\n",
              "<style scoped>\n",
              "    .dataframe tbody tr th:only-of-type {\n",
              "        vertical-align: middle;\n",
              "    }\n",
              "\n",
              "    .dataframe tbody tr th {\n",
              "        vertical-align: top;\n",
              "    }\n",
              "\n",
              "    .dataframe thead th {\n",
              "        text-align: right;\n",
              "    }\n",
              "</style>\n",
              "<table border=\"1\" class=\"dataframe\">\n",
              "  <thead>\n",
              "    <tr style=\"text-align: right;\">\n",
              "      <th></th>\n",
              "      <th>age</th>\n",
              "      <th>sex</th>\n",
              "      <th>cp</th>\n",
              "      <th>trestbps</th>\n",
              "      <th>chol</th>\n",
              "      <th>fbs</th>\n",
              "      <th>restecg</th>\n",
              "      <th>thalac</th>\n",
              "      <th>exang</th>\n",
              "      <th>oldpeak</th>\n",
              "      <th>slope</th>\n",
              "      <th>output</th>\n",
              "    </tr>\n",
              "    <tr>\n",
              "      <th>thal</th>\n",
              "      <th></th>\n",
              "      <th></th>\n",
              "      <th></th>\n",
              "      <th></th>\n",
              "      <th></th>\n",
              "      <th></th>\n",
              "      <th></th>\n",
              "      <th></th>\n",
              "      <th></th>\n",
              "      <th></th>\n",
              "      <th></th>\n",
              "      <th></th>\n",
              "    </tr>\n",
              "  </thead>\n",
              "  <tbody>\n",
              "    <tr>\n",
              "      <th>3</th>\n",
              "      <td>53.379518</td>\n",
              "      <td>0.518072</td>\n",
              "      <td>2.927711</td>\n",
              "      <td>129.506024</td>\n",
              "      <td>246.831325</td>\n",
              "      <td>0.120482</td>\n",
              "      <td>0.963855</td>\n",
              "      <td>155.698795</td>\n",
              "      <td>0.186747</td>\n",
              "      <td>0.682530</td>\n",
              "      <td>1.433735</td>\n",
              "      <td>0.373494</td>\n",
              "    </tr>\n",
              "    <tr>\n",
              "      <th>6</th>\n",
              "      <td>56.666667</td>\n",
              "      <td>0.944444</td>\n",
              "      <td>3.333333</td>\n",
              "      <td>136.944444</td>\n",
              "      <td>227.000000</td>\n",
              "      <td>0.277778</td>\n",
              "      <td>1.166667</td>\n",
              "      <td>135.111111</td>\n",
              "      <td>0.444444</td>\n",
              "      <td>1.522222</td>\n",
              "      <td>2.055556</td>\n",
              "      <td>1.444444</td>\n",
              "    </tr>\n",
              "    <tr>\n",
              "      <th>7</th>\n",
              "      <td>55.632479</td>\n",
              "      <td>0.871795</td>\n",
              "      <td>3.452991</td>\n",
              "      <td>134.042735</td>\n",
              "      <td>250.153846</td>\n",
              "      <td>0.162393</td>\n",
              "      <td>1.000000</td>\n",
              "      <td>143.435897</td>\n",
              "      <td>0.504274</td>\n",
              "      <td>1.481197</td>\n",
              "      <td>1.769231</td>\n",
              "      <td>1.658120</td>\n",
              "    </tr>\n",
              "    <tr>\n",
              "      <th>?</th>\n",
              "      <td>52.500000</td>\n",
              "      <td>0.500000</td>\n",
              "      <td>3.500000</td>\n",
              "      <td>128.000000</td>\n",
              "      <td>210.000000</td>\n",
              "      <td>0.500000</td>\n",
              "      <td>1.000000</td>\n",
              "      <td>135.500000</td>\n",
              "      <td>0.500000</td>\n",
              "      <td>0.500000</td>\n",
              "      <td>1.500000</td>\n",
              "      <td>1.000000</td>\n",
              "    </tr>\n",
              "  </tbody>\n",
              "</table>\n",
              "</div>"
            ],
            "text/plain": [
              "            age       sex        cp  ...   oldpeak     slope    output\n",
              "thal                                 ...                              \n",
              "3     53.379518  0.518072  2.927711  ...  0.682530  1.433735  0.373494\n",
              "6     56.666667  0.944444  3.333333  ...  1.522222  2.055556  1.444444\n",
              "7     55.632479  0.871795  3.452991  ...  1.481197  1.769231  1.658120\n",
              "?     52.500000  0.500000  3.500000  ...  0.500000  1.500000  1.000000\n",
              "\n",
              "[4 rows x 12 columns]"
            ]
          },
          "metadata": {
            "tags": []
          },
          "execution_count": 337
        }
      ]
    },
    {
      "cell_type": "code",
      "metadata": {
        "id": "GOEBUHpuet0z",
        "colab_type": "code",
        "outputId": "56685f2d-afa3-4c29-f1a8-0e97cfccf05e",
        "colab": {
          "base_uri": "https://localhost:8080/",
          "height": 235
        }
      },
      "source": [
        "dataset.groupby('nmaj').mean()"
      ],
      "execution_count": 0,
      "outputs": [
        {
          "output_type": "execute_result",
          "data": {
            "text/html": [
              "<div>\n",
              "<style scoped>\n",
              "    .dataframe tbody tr th:only-of-type {\n",
              "        vertical-align: middle;\n",
              "    }\n",
              "\n",
              "    .dataframe tbody tr th {\n",
              "        vertical-align: top;\n",
              "    }\n",
              "\n",
              "    .dataframe thead th {\n",
              "        text-align: right;\n",
              "    }\n",
              "</style>\n",
              "<table border=\"1\" class=\"dataframe\">\n",
              "  <thead>\n",
              "    <tr style=\"text-align: right;\">\n",
              "      <th></th>\n",
              "      <th>age</th>\n",
              "      <th>sex</th>\n",
              "      <th>cp</th>\n",
              "      <th>trestbps</th>\n",
              "      <th>chol</th>\n",
              "      <th>fbs</th>\n",
              "      <th>restecg</th>\n",
              "      <th>thalac</th>\n",
              "      <th>exang</th>\n",
              "      <th>oldpeak</th>\n",
              "      <th>slope</th>\n",
              "      <th>output</th>\n",
              "    </tr>\n",
              "    <tr>\n",
              "      <th>nmaj</th>\n",
              "      <th></th>\n",
              "      <th></th>\n",
              "      <th></th>\n",
              "      <th></th>\n",
              "      <th></th>\n",
              "      <th></th>\n",
              "      <th></th>\n",
              "      <th></th>\n",
              "      <th></th>\n",
              "      <th></th>\n",
              "      <th></th>\n",
              "      <th></th>\n",
              "    </tr>\n",
              "  </thead>\n",
              "  <tbody>\n",
              "    <tr>\n",
              "      <th>0</th>\n",
              "      <td>51.693182</td>\n",
              "      <td>0.630682</td>\n",
              "      <td>2.982955</td>\n",
              "      <td>130.954545</td>\n",
              "      <td>243.051136</td>\n",
              "      <td>0.113636</td>\n",
              "      <td>0.897727</td>\n",
              "      <td>155.022727</td>\n",
              "      <td>0.250000</td>\n",
              "      <td>0.831818</td>\n",
              "      <td>1.562500</td>\n",
              "      <td>0.454545</td>\n",
              "    </tr>\n",
              "    <tr>\n",
              "      <th>1</th>\n",
              "      <td>57.476923</td>\n",
              "      <td>0.769231</td>\n",
              "      <td>3.307692</td>\n",
              "      <td>129.630769</td>\n",
              "      <td>248.123077</td>\n",
              "      <td>0.138462</td>\n",
              "      <td>1.092308</td>\n",
              "      <td>141.092308</td>\n",
              "      <td>0.461538</td>\n",
              "      <td>1.013846</td>\n",
              "      <td>1.600000</td>\n",
              "      <td>1.276923</td>\n",
              "    </tr>\n",
              "    <tr>\n",
              "      <th>2</th>\n",
              "      <td>59.789474</td>\n",
              "      <td>0.657895</td>\n",
              "      <td>3.473684</td>\n",
              "      <td>135.710526</td>\n",
              "      <td>254.447368</td>\n",
              "      <td>0.263158</td>\n",
              "      <td>1.105263</td>\n",
              "      <td>146.210526</td>\n",
              "      <td>0.447368</td>\n",
              "      <td>1.707895</td>\n",
              "      <td>1.657895</td>\n",
              "      <td>1.947368</td>\n",
              "    </tr>\n",
              "    <tr>\n",
              "      <th>3</th>\n",
              "      <td>59.900000</td>\n",
              "      <td>0.800000</td>\n",
              "      <td>3.650000</td>\n",
              "      <td>136.900000</td>\n",
              "      <td>265.450000</td>\n",
              "      <td>0.250000</td>\n",
              "      <td>1.350000</td>\n",
              "      <td>134.550000</td>\n",
              "      <td>0.350000</td>\n",
              "      <td>1.865000</td>\n",
              "      <td>1.850000</td>\n",
              "      <td>2.300000</td>\n",
              "    </tr>\n",
              "    <tr>\n",
              "      <th>?</th>\n",
              "      <td>47.750000</td>\n",
              "      <td>1.000000</td>\n",
              "      <td>3.000000</td>\n",
              "      <td>133.250000</td>\n",
              "      <td>216.250000</td>\n",
              "      <td>0.250000</td>\n",
              "      <td>0.500000</td>\n",
              "      <td>157.250000</td>\n",
              "      <td>0.250000</td>\n",
              "      <td>0.125000</td>\n",
              "      <td>1.500000</td>\n",
              "      <td>0.250000</td>\n",
              "    </tr>\n",
              "  </tbody>\n",
              "</table>\n",
              "</div>"
            ],
            "text/plain": [
              "            age       sex        cp  ...   oldpeak     slope    output\n",
              "nmaj                                 ...                              \n",
              "0     51.693182  0.630682  2.982955  ...  0.831818  1.562500  0.454545\n",
              "1     57.476923  0.769231  3.307692  ...  1.013846  1.600000  1.276923\n",
              "2     59.789474  0.657895  3.473684  ...  1.707895  1.657895  1.947368\n",
              "3     59.900000  0.800000  3.650000  ...  1.865000  1.850000  2.300000\n",
              "?     47.750000  1.000000  3.000000  ...  0.125000  1.500000  0.250000\n",
              "\n",
              "[5 rows x 12 columns]"
            ]
          },
          "metadata": {
            "tags": []
          },
          "execution_count": 338
        }
      ]
    },
    {
      "cell_type": "code",
      "metadata": {
        "id": "1zjFw_SPkPRR",
        "colab_type": "code",
        "outputId": "4b90f0f2-34f8-4660-989a-a2b1125efd1f",
        "colab": {
          "base_uri": "https://localhost:8080/",
          "height": 204
        }
      },
      "source": [
        "dataset.groupby('cp').mean()"
      ],
      "execution_count": 0,
      "outputs": [
        {
          "output_type": "execute_result",
          "data": {
            "text/html": [
              "<div>\n",
              "<style scoped>\n",
              "    .dataframe tbody tr th:only-of-type {\n",
              "        vertical-align: middle;\n",
              "    }\n",
              "\n",
              "    .dataframe tbody tr th {\n",
              "        vertical-align: top;\n",
              "    }\n",
              "\n",
              "    .dataframe thead th {\n",
              "        text-align: right;\n",
              "    }\n",
              "</style>\n",
              "<table border=\"1\" class=\"dataframe\">\n",
              "  <thead>\n",
              "    <tr style=\"text-align: right;\">\n",
              "      <th></th>\n",
              "      <th>age</th>\n",
              "      <th>sex</th>\n",
              "      <th>trestbps</th>\n",
              "      <th>chol</th>\n",
              "      <th>fbs</th>\n",
              "      <th>restecg</th>\n",
              "      <th>thalac</th>\n",
              "      <th>exang</th>\n",
              "      <th>oldpeak</th>\n",
              "      <th>slope</th>\n",
              "      <th>output</th>\n",
              "    </tr>\n",
              "    <tr>\n",
              "      <th>cp</th>\n",
              "      <th></th>\n",
              "      <th></th>\n",
              "      <th></th>\n",
              "      <th></th>\n",
              "      <th></th>\n",
              "      <th></th>\n",
              "      <th></th>\n",
              "      <th></th>\n",
              "      <th></th>\n",
              "      <th></th>\n",
              "      <th></th>\n",
              "    </tr>\n",
              "  </thead>\n",
              "  <tbody>\n",
              "    <tr>\n",
              "      <th>1</th>\n",
              "      <td>55.869565</td>\n",
              "      <td>0.826087</td>\n",
              "      <td>140.869565</td>\n",
              "      <td>237.130435</td>\n",
              "      <td>0.217391</td>\n",
              "      <td>1.217391</td>\n",
              "      <td>155.956522</td>\n",
              "      <td>0.173913</td>\n",
              "      <td>1.391304</td>\n",
              "      <td>1.739130</td>\n",
              "      <td>0.478261</td>\n",
              "    </tr>\n",
              "    <tr>\n",
              "      <th>2</th>\n",
              "      <td>51.360000</td>\n",
              "      <td>0.640000</td>\n",
              "      <td>128.400000</td>\n",
              "      <td>244.780000</td>\n",
              "      <td>0.100000</td>\n",
              "      <td>0.760000</td>\n",
              "      <td>162.420000</td>\n",
              "      <td>0.080000</td>\n",
              "      <td>0.316000</td>\n",
              "      <td>1.320000</td>\n",
              "      <td>0.280000</td>\n",
              "    </tr>\n",
              "    <tr>\n",
              "      <th>3</th>\n",
              "      <td>53.697674</td>\n",
              "      <td>0.593023</td>\n",
              "      <td>130.290698</td>\n",
              "      <td>243.965116</td>\n",
              "      <td>0.197674</td>\n",
              "      <td>0.848837</td>\n",
              "      <td>155.406977</td>\n",
              "      <td>0.127907</td>\n",
              "      <td>0.806977</td>\n",
              "      <td>1.500000</td>\n",
              "      <td>0.383721</td>\n",
              "    </tr>\n",
              "    <tr>\n",
              "      <th>4</th>\n",
              "      <td>55.722222</td>\n",
              "      <td>0.722222</td>\n",
              "      <td>132.201389</td>\n",
              "      <td>250.513889</td>\n",
              "      <td>0.125000</td>\n",
              "      <td>1.118056</td>\n",
              "      <td>140.680556</td>\n",
              "      <td>0.555556</td>\n",
              "      <td>1.373611</td>\n",
              "      <td>1.736111</td>\n",
              "      <td>1.569444</td>\n",
              "    </tr>\n",
              "  </tbody>\n",
              "</table>\n",
              "</div>"
            ],
            "text/plain": [
              "          age       sex    trestbps  ...   oldpeak     slope    output\n",
              "cp                                   ...                              \n",
              "1   55.869565  0.826087  140.869565  ...  1.391304  1.739130  0.478261\n",
              "2   51.360000  0.640000  128.400000  ...  0.316000  1.320000  0.280000\n",
              "3   53.697674  0.593023  130.290698  ...  0.806977  1.500000  0.383721\n",
              "4   55.722222  0.722222  132.201389  ...  1.373611  1.736111  1.569444\n",
              "\n",
              "[4 rows x 11 columns]"
            ]
          },
          "metadata": {
            "tags": []
          },
          "execution_count": 401
        }
      ]
    },
    {
      "cell_type": "code",
      "metadata": {
        "id": "_UMfwDFElDOn",
        "colab_type": "code",
        "outputId": "e61762d4-4ba4-41e9-ea07-f526ce36d7fb",
        "colab": {
          "base_uri": "https://localhost:8080/",
          "height": 173
        }
      },
      "source": [
        "dataset.groupby('slope').mean()"
      ],
      "execution_count": 0,
      "outputs": [
        {
          "output_type": "execute_result",
          "data": {
            "text/html": [
              "<div>\n",
              "<style scoped>\n",
              "    .dataframe tbody tr th:only-of-type {\n",
              "        vertical-align: middle;\n",
              "    }\n",
              "\n",
              "    .dataframe tbody tr th {\n",
              "        vertical-align: top;\n",
              "    }\n",
              "\n",
              "    .dataframe thead th {\n",
              "        text-align: right;\n",
              "    }\n",
              "</style>\n",
              "<table border=\"1\" class=\"dataframe\">\n",
              "  <thead>\n",
              "    <tr style=\"text-align: right;\">\n",
              "      <th></th>\n",
              "      <th>age</th>\n",
              "      <th>sex</th>\n",
              "      <th>cp</th>\n",
              "      <th>trestbps</th>\n",
              "      <th>chol</th>\n",
              "      <th>fbs</th>\n",
              "      <th>restecg</th>\n",
              "      <th>thalac</th>\n",
              "      <th>exang</th>\n",
              "      <th>oldpeak</th>\n",
              "      <th>output</th>\n",
              "    </tr>\n",
              "    <tr>\n",
              "      <th>slope</th>\n",
              "      <th></th>\n",
              "      <th></th>\n",
              "      <th></th>\n",
              "      <th></th>\n",
              "      <th></th>\n",
              "      <th></th>\n",
              "      <th></th>\n",
              "      <th></th>\n",
              "      <th></th>\n",
              "      <th></th>\n",
              "      <th></th>\n",
              "    </tr>\n",
              "  </thead>\n",
              "  <tbody>\n",
              "    <tr>\n",
              "      <th>1</th>\n",
              "      <td>52.661972</td>\n",
              "      <td>0.669014</td>\n",
              "      <td>2.964789</td>\n",
              "      <td>130.133803</td>\n",
              "      <td>245.633803</td>\n",
              "      <td>0.140845</td>\n",
              "      <td>0.845070</td>\n",
              "      <td>160.471831</td>\n",
              "      <td>0.183099</td>\n",
              "      <td>0.408451</td>\n",
              "      <td>0.408451</td>\n",
              "    </tr>\n",
              "    <tr>\n",
              "      <th>2</th>\n",
              "      <td>56.100000</td>\n",
              "      <td>0.678571</td>\n",
              "      <td>3.357143</td>\n",
              "      <td>132.100000</td>\n",
              "      <td>249.121429</td>\n",
              "      <td>0.135714</td>\n",
              "      <td>1.107143</td>\n",
              "      <td>139.292857</td>\n",
              "      <td>0.457143</td>\n",
              "      <td>1.428571</td>\n",
              "      <td>1.392857</td>\n",
              "    </tr>\n",
              "    <tr>\n",
              "      <th>3</th>\n",
              "      <td>55.380952</td>\n",
              "      <td>0.761905</td>\n",
              "      <td>3.142857</td>\n",
              "      <td>139.476190</td>\n",
              "      <td>237.666667</td>\n",
              "      <td>0.285714</td>\n",
              "      <td>1.190476</td>\n",
              "      <td>144.904762</td>\n",
              "      <td>0.428571</td>\n",
              "      <td>2.714286</td>\n",
              "      <td>1.476190</td>\n",
              "    </tr>\n",
              "  </tbody>\n",
              "</table>\n",
              "</div>"
            ],
            "text/plain": [
              "             age       sex        cp  ...     exang   oldpeak    output\n",
              "slope                                 ...                              \n",
              "1      52.661972  0.669014  2.964789  ...  0.183099  0.408451  0.408451\n",
              "2      56.100000  0.678571  3.357143  ...  0.457143  1.428571  1.392857\n",
              "3      55.380952  0.761905  3.142857  ...  0.428571  2.714286  1.476190\n",
              "\n",
              "[3 rows x 11 columns]"
            ]
          },
          "metadata": {
            "tags": []
          },
          "execution_count": 403
        }
      ]
    },
    {
      "cell_type": "code",
      "metadata": {
        "id": "HyVAuCO9vGlS",
        "colab_type": "code",
        "colab": {}
      },
      "source": [
        "data=pd.DataFrame(data)"
      ],
      "execution_count": 0,
      "outputs": []
    },
    {
      "cell_type": "code",
      "metadata": {
        "id": "oXCB9dUQBFy1",
        "colab_type": "code",
        "outputId": "2ffe2c4c-b5e9-40c5-f108-42c98dfc0ded",
        "colab": {
          "base_uri": "https://localhost:8080/",
          "height": 340
        }
      },
      "source": [
        "data.info()"
      ],
      "execution_count": 0,
      "outputs": [
        {
          "output_type": "stream",
          "text": [
            "<class 'pandas.core.frame.DataFrame'>\n",
            "RangeIndex: 303 entries, 0 to 302\n",
            "Data columns (total 14 columns):\n",
            "age         303 non-null int64\n",
            "sex         303 non-null int64\n",
            "cp          303 non-null int64\n",
            "trestbps    303 non-null int64\n",
            "chol        303 non-null int64\n",
            "fbs         303 non-null int64\n",
            "restecg     303 non-null int64\n",
            "thalac      303 non-null int64\n",
            "exang       303 non-null int64\n",
            "oldpeak     303 non-null float64\n",
            "slope       303 non-null int64\n",
            "nmaj        303 non-null object\n",
            "thal        303 non-null object\n",
            "output      303 non-null int64\n",
            "dtypes: float64(1), int64(11), object(2)\n",
            "memory usage: 33.3+ KB\n"
          ],
          "name": "stdout"
        }
      ]
    },
    {
      "cell_type": "code",
      "metadata": {
        "id": "ksWL9u6hBHRJ",
        "colab_type": "code",
        "outputId": "cf2f513f-806a-4b8c-f8d5-dbf92c50f7cf",
        "colab": {
          "base_uri": "https://localhost:8080/",
          "height": 204
        }
      },
      "source": [
        "data.head()"
      ],
      "execution_count": 0,
      "outputs": [
        {
          "output_type": "execute_result",
          "data": {
            "text/html": [
              "<div>\n",
              "<style scoped>\n",
              "    .dataframe tbody tr th:only-of-type {\n",
              "        vertical-align: middle;\n",
              "    }\n",
              "\n",
              "    .dataframe tbody tr th {\n",
              "        vertical-align: top;\n",
              "    }\n",
              "\n",
              "    .dataframe thead th {\n",
              "        text-align: right;\n",
              "    }\n",
              "</style>\n",
              "<table border=\"1\" class=\"dataframe\">\n",
              "  <thead>\n",
              "    <tr style=\"text-align: right;\">\n",
              "      <th></th>\n",
              "      <th>age</th>\n",
              "      <th>sex</th>\n",
              "      <th>cp</th>\n",
              "      <th>trestbps</th>\n",
              "      <th>chol</th>\n",
              "      <th>fbs</th>\n",
              "      <th>restecg</th>\n",
              "      <th>thalac</th>\n",
              "      <th>exang</th>\n",
              "      <th>oldpeak</th>\n",
              "      <th>slope</th>\n",
              "      <th>nmaj</th>\n",
              "      <th>thal</th>\n",
              "      <th>output</th>\n",
              "    </tr>\n",
              "  </thead>\n",
              "  <tbody>\n",
              "    <tr>\n",
              "      <th>0</th>\n",
              "      <td>63</td>\n",
              "      <td>1</td>\n",
              "      <td>1</td>\n",
              "      <td>145</td>\n",
              "      <td>233</td>\n",
              "      <td>1</td>\n",
              "      <td>2</td>\n",
              "      <td>150</td>\n",
              "      <td>0</td>\n",
              "      <td>2.3</td>\n",
              "      <td>3</td>\n",
              "      <td>0</td>\n",
              "      <td>6</td>\n",
              "      <td>0</td>\n",
              "    </tr>\n",
              "    <tr>\n",
              "      <th>1</th>\n",
              "      <td>67</td>\n",
              "      <td>1</td>\n",
              "      <td>4</td>\n",
              "      <td>160</td>\n",
              "      <td>286</td>\n",
              "      <td>0</td>\n",
              "      <td>2</td>\n",
              "      <td>108</td>\n",
              "      <td>1</td>\n",
              "      <td>1.5</td>\n",
              "      <td>2</td>\n",
              "      <td>3</td>\n",
              "      <td>3</td>\n",
              "      <td>2</td>\n",
              "    </tr>\n",
              "    <tr>\n",
              "      <th>2</th>\n",
              "      <td>67</td>\n",
              "      <td>1</td>\n",
              "      <td>4</td>\n",
              "      <td>120</td>\n",
              "      <td>229</td>\n",
              "      <td>0</td>\n",
              "      <td>2</td>\n",
              "      <td>129</td>\n",
              "      <td>1</td>\n",
              "      <td>2.6</td>\n",
              "      <td>2</td>\n",
              "      <td>2</td>\n",
              "      <td>7</td>\n",
              "      <td>1</td>\n",
              "    </tr>\n",
              "    <tr>\n",
              "      <th>3</th>\n",
              "      <td>37</td>\n",
              "      <td>1</td>\n",
              "      <td>3</td>\n",
              "      <td>130</td>\n",
              "      <td>250</td>\n",
              "      <td>0</td>\n",
              "      <td>0</td>\n",
              "      <td>187</td>\n",
              "      <td>0</td>\n",
              "      <td>3.5</td>\n",
              "      <td>3</td>\n",
              "      <td>0</td>\n",
              "      <td>3</td>\n",
              "      <td>0</td>\n",
              "    </tr>\n",
              "    <tr>\n",
              "      <th>4</th>\n",
              "      <td>41</td>\n",
              "      <td>0</td>\n",
              "      <td>2</td>\n",
              "      <td>130</td>\n",
              "      <td>204</td>\n",
              "      <td>0</td>\n",
              "      <td>2</td>\n",
              "      <td>172</td>\n",
              "      <td>0</td>\n",
              "      <td>1.4</td>\n",
              "      <td>1</td>\n",
              "      <td>0</td>\n",
              "      <td>3</td>\n",
              "      <td>0</td>\n",
              "    </tr>\n",
              "  </tbody>\n",
              "</table>\n",
              "</div>"
            ],
            "text/plain": [
              "   age  sex  cp  trestbps  chol  fbs  ...  exang  oldpeak  slope  nmaj  thal output\n",
              "0   63    1   1       145   233    1  ...      0      2.3      3     0     6      0\n",
              "1   67    1   4       160   286    0  ...      1      1.5      2     3     3      2\n",
              "2   67    1   4       120   229    0  ...      1      2.6      2     2     7      1\n",
              "3   37    1   3       130   250    0  ...      0      3.5      3     0     3      0\n",
              "4   41    0   2       130   204    0  ...      0      1.4      1     0     3      0\n",
              "\n",
              "[5 rows x 14 columns]"
            ]
          },
          "metadata": {
            "tags": []
          },
          "execution_count": 437
        }
      ]
    },
    {
      "cell_type": "code",
      "metadata": {
        "id": "1c4bDkJWBNJj",
        "colab_type": "code",
        "outputId": "6c0c7152-a83e-485a-cede-1ee18728d35b",
        "colab": {
          "base_uri": "https://localhost:8080/",
          "height": 272
        }
      },
      "source": [
        "#for finding null values.\n",
        "data.isin(['?']).sum()"
      ],
      "execution_count": 0,
      "outputs": [
        {
          "output_type": "execute_result",
          "data": {
            "text/plain": [
              "age         0\n",
              "sex         0\n",
              "cp          0\n",
              "trestbps    0\n",
              "chol        0\n",
              "fbs         0\n",
              "restecg     0\n",
              "thalac      0\n",
              "exang       0\n",
              "oldpeak     0\n",
              "slope       0\n",
              "nmaj        4\n",
              "thal        2\n",
              "output      0\n",
              "dtype: int64"
            ]
          },
          "metadata": {
            "tags": []
          },
          "execution_count": 422
        }
      ]
    },
    {
      "cell_type": "code",
      "metadata": {
        "id": "zBPlW3SsBP5r",
        "colab_type": "code",
        "outputId": "a2e1039a-4bcf-4fda-9e6f-05dc07181690",
        "colab": {
          "base_uri": "https://localhost:8080/",
          "height": 187
        }
      },
      "source": [
        "#changing the blank values of thal and nmaj according to the data seen above.\n",
        "for i in range(0,data.shape[0]):\n",
        "  if(data['thal'][i]=='?'):\n",
        "    data['thal'][i]= 6\n",
        "  if(data['nmaj'][i]=='?'):\n",
        "    data['nmaj'][i]= 3"
      ],
      "execution_count": 0,
      "outputs": [
        {
          "output_type": "stream",
          "text": [
            "/usr/local/lib/python3.6/dist-packages/ipykernel_launcher.py:3: SettingWithCopyWarning: \n",
            "A value is trying to be set on a copy of a slice from a DataFrame\n",
            "\n",
            "See the caveats in the documentation: http://pandas.pydata.org/pandas-docs/stable/user_guide/indexing.html#returning-a-view-versus-a-copy\n",
            "  This is separate from the ipykernel package so we can avoid doing imports until\n",
            "/usr/local/lib/python3.6/dist-packages/ipykernel_launcher.py:5: SettingWithCopyWarning: \n",
            "A value is trying to be set on a copy of a slice from a DataFrame\n",
            "\n",
            "See the caveats in the documentation: http://pandas.pydata.org/pandas-docs/stable/user_guide/indexing.html#returning-a-view-versus-a-copy\n",
            "  \"\"\"\n"
          ],
          "name": "stderr"
        }
      ]
    },
    {
      "cell_type": "code",
      "metadata": {
        "id": "mBZoQoi3iHas",
        "colab_type": "code",
        "colab": {}
      },
      "source": [
        "#as in info it was seen that the dtype is object for these 2 attributes.\n",
        "data['thal']=data['thal'].astype(float)\n",
        "data['nmaj']=data['nmaj'].astype(float)"
      ],
      "execution_count": 0,
      "outputs": []
    },
    {
      "cell_type": "code",
      "metadata": {
        "id": "X3ugOfYujNnv",
        "colab_type": "code",
        "outputId": "100b367b-80b0-4f44-fb29-f468321da19a",
        "colab": {
          "base_uri": "https://localhost:8080/",
          "height": 748
        }
      },
      "source": [
        "#encoding the categorical values according to the data explored above.\n",
        "for i in range(0,data.shape[0]):\n",
        "  if(data['thal'][i] == 6):\n",
        "    data['thal'][i] = 2\n",
        "  elif(data['thal'][i] == 7):\n",
        "    data['thal'][i] = 1\n",
        "  elif(data['thal'][i] == 3):\n",
        "    data['thal'][i] = 0\n",
        "\n",
        "  if(data['cp'][i] == 1):\n",
        "    data['cp'][i] = 3\n",
        "  elif(data['cp'][i] == 4):\n",
        "    data['cp'][i] = 2\n",
        "  elif(data['cp'][i] == 3):\n",
        "    data['cp'][i] = 1\n",
        "  elif(data['cp'][i] == 2):\n",
        "    data['cp'][i] = 0 \n",
        "  \n",
        "  if(data['slope'][i] == 3):\n",
        "    data['slope'][i] = 1\n",
        "  elif(data['slope'][i] == 1):\n",
        "    data['slope'][i] = 0 \n",
        "  "
      ],
      "execution_count": 0,
      "outputs": [
        {
          "output_type": "stream",
          "text": [
            "/usr/local/lib/python3.6/dist-packages/ipykernel_launcher.py:3: SettingWithCopyWarning: \n",
            "A value is trying to be set on a copy of a slice from a DataFrame\n",
            "\n",
            "See the caveats in the documentation: http://pandas.pydata.org/pandas-docs/stable/user_guide/indexing.html#returning-a-view-versus-a-copy\n",
            "  This is separate from the ipykernel package so we can avoid doing imports until\n",
            "/usr/local/lib/python3.6/dist-packages/ipykernel_launcher.py:10: SettingWithCopyWarning: \n",
            "A value is trying to be set on a copy of a slice from a DataFrame\n",
            "\n",
            "See the caveats in the documentation: http://pandas.pydata.org/pandas-docs/stable/user_guide/indexing.html#returning-a-view-versus-a-copy\n",
            "  # Remove the CWD from sys.path while we load stuff.\n",
            "/usr/local/lib/python3.6/dist-packages/ipykernel_launcher.py:19: SettingWithCopyWarning: \n",
            "A value is trying to be set on a copy of a slice from a DataFrame\n",
            "\n",
            "See the caveats in the documentation: http://pandas.pydata.org/pandas-docs/stable/user_guide/indexing.html#returning-a-view-versus-a-copy\n",
            "/usr/local/lib/python3.6/dist-packages/ipykernel_launcher.py:7: SettingWithCopyWarning: \n",
            "A value is trying to be set on a copy of a slice from a DataFrame\n",
            "\n",
            "See the caveats in the documentation: http://pandas.pydata.org/pandas-docs/stable/user_guide/indexing.html#returning-a-view-versus-a-copy\n",
            "  import sys\n",
            "/usr/local/lib/python3.6/dist-packages/ipykernel_launcher.py:12: SettingWithCopyWarning: \n",
            "A value is trying to be set on a copy of a slice from a DataFrame\n",
            "\n",
            "See the caveats in the documentation: http://pandas.pydata.org/pandas-docs/stable/user_guide/indexing.html#returning-a-view-versus-a-copy\n",
            "  if sys.path[0] == '':\n",
            "/usr/local/lib/python3.6/dist-packages/ipykernel_launcher.py:5: SettingWithCopyWarning: \n",
            "A value is trying to be set on a copy of a slice from a DataFrame\n",
            "\n",
            "See the caveats in the documentation: http://pandas.pydata.org/pandas-docs/stable/user_guide/indexing.html#returning-a-view-versus-a-copy\n",
            "  \"\"\"\n",
            "/usr/local/lib/python3.6/dist-packages/ipykernel_launcher.py:14: SettingWithCopyWarning: \n",
            "A value is trying to be set on a copy of a slice from a DataFrame\n",
            "\n",
            "See the caveats in the documentation: http://pandas.pydata.org/pandas-docs/stable/user_guide/indexing.html#returning-a-view-versus-a-copy\n",
            "  \n",
            "/usr/local/lib/python3.6/dist-packages/ipykernel_launcher.py:16: SettingWithCopyWarning: \n",
            "A value is trying to be set on a copy of a slice from a DataFrame\n",
            "\n",
            "See the caveats in the documentation: http://pandas.pydata.org/pandas-docs/stable/user_guide/indexing.html#returning-a-view-versus-a-copy\n",
            "  app.launch_new_instance()\n",
            "/usr/local/lib/python3.6/dist-packages/ipykernel_launcher.py:21: SettingWithCopyWarning: \n",
            "A value is trying to be set on a copy of a slice from a DataFrame\n",
            "\n",
            "See the caveats in the documentation: http://pandas.pydata.org/pandas-docs/stable/user_guide/indexing.html#returning-a-view-versus-a-copy\n"
          ],
          "name": "stderr"
        }
      ]
    },
    {
      "cell_type": "code",
      "metadata": {
        "id": "hil_h_RzFEZj",
        "colab_type": "code",
        "outputId": "084c51d9-3a7f-49c4-daa2-55b3befb4296",
        "colab": {
          "base_uri": "https://localhost:8080/",
          "height": 173
        }
      },
      "source": [
        "#confirmation that the above code worked as intended.\n",
        "data.groupby('thal').mean()"
      ],
      "execution_count": 0,
      "outputs": [
        {
          "output_type": "execute_result",
          "data": {
            "text/html": [
              "<div>\n",
              "<style scoped>\n",
              "    .dataframe tbody tr th:only-of-type {\n",
              "        vertical-align: middle;\n",
              "    }\n",
              "\n",
              "    .dataframe tbody tr th {\n",
              "        vertical-align: top;\n",
              "    }\n",
              "\n",
              "    .dataframe thead th {\n",
              "        text-align: right;\n",
              "    }\n",
              "</style>\n",
              "<table border=\"1\" class=\"dataframe\">\n",
              "  <thead>\n",
              "    <tr style=\"text-align: right;\">\n",
              "      <th></th>\n",
              "      <th>age</th>\n",
              "      <th>sex</th>\n",
              "      <th>cp</th>\n",
              "      <th>trestbps</th>\n",
              "      <th>chol</th>\n",
              "      <th>fbs</th>\n",
              "      <th>restecg</th>\n",
              "      <th>thalac</th>\n",
              "      <th>exang</th>\n",
              "      <th>oldpeak</th>\n",
              "      <th>slope</th>\n",
              "      <th>nmaj</th>\n",
              "      <th>output</th>\n",
              "    </tr>\n",
              "    <tr>\n",
              "      <th>thal</th>\n",
              "      <th></th>\n",
              "      <th></th>\n",
              "      <th></th>\n",
              "      <th></th>\n",
              "      <th></th>\n",
              "      <th></th>\n",
              "      <th></th>\n",
              "      <th></th>\n",
              "      <th></th>\n",
              "      <th></th>\n",
              "      <th></th>\n",
              "      <th></th>\n",
              "      <th></th>\n",
              "    </tr>\n",
              "  </thead>\n",
              "  <tbody>\n",
              "    <tr>\n",
              "      <th>0.0</th>\n",
              "      <td>53.379518</td>\n",
              "      <td>0.518072</td>\n",
              "      <td>1.240964</td>\n",
              "      <td>129.506024</td>\n",
              "      <td>246.831325</td>\n",
              "      <td>0.120482</td>\n",
              "      <td>0.963855</td>\n",
              "      <td>155.698795</td>\n",
              "      <td>0.186747</td>\n",
              "      <td>0.682530</td>\n",
              "      <td>0.722892</td>\n",
              "      <td>0.487952</td>\n",
              "      <td>0.373494</td>\n",
              "    </tr>\n",
              "    <tr>\n",
              "      <th>1.0</th>\n",
              "      <td>55.632479</td>\n",
              "      <td>0.871795</td>\n",
              "      <td>1.726496</td>\n",
              "      <td>134.042735</td>\n",
              "      <td>250.153846</td>\n",
              "      <td>0.162393</td>\n",
              "      <td>1.000000</td>\n",
              "      <td>143.435897</td>\n",
              "      <td>0.504274</td>\n",
              "      <td>1.481197</td>\n",
              "      <td>1.282051</td>\n",
              "      <td>0.974359</td>\n",
              "      <td>1.658120</td>\n",
              "    </tr>\n",
              "    <tr>\n",
              "      <th>2.0</th>\n",
              "      <td>56.250000</td>\n",
              "      <td>0.900000</td>\n",
              "      <td>1.750000</td>\n",
              "      <td>136.050000</td>\n",
              "      <td>225.300000</td>\n",
              "      <td>0.300000</td>\n",
              "      <td>1.150000</td>\n",
              "      <td>135.150000</td>\n",
              "      <td>0.450000</td>\n",
              "      <td>1.420000</td>\n",
              "      <td>1.550000</td>\n",
              "      <td>0.900000</td>\n",
              "      <td>1.400000</td>\n",
              "    </tr>\n",
              "  </tbody>\n",
              "</table>\n",
              "</div>"
            ],
            "text/plain": [
              "            age       sex        cp  ...     slope      nmaj    output\n",
              "thal                                 ...                              \n",
              "0.0   53.379518  0.518072  1.240964  ...  0.722892  0.487952  0.373494\n",
              "1.0   55.632479  0.871795  1.726496  ...  1.282051  0.974359  1.658120\n",
              "2.0   56.250000  0.900000  1.750000  ...  1.550000  0.900000  1.400000\n",
              "\n",
              "[3 rows x 13 columns]"
            ]
          },
          "metadata": {
            "tags": []
          },
          "execution_count": 466
        }
      ]
    },
    {
      "cell_type": "code",
      "metadata": {
        "id": "MaaAlfbBp5wu",
        "colab_type": "code",
        "outputId": "20fc0199-e5dd-49f2-89e4-32276a7f31cc",
        "colab": {
          "base_uri": "https://localhost:8080/",
          "height": 204
        }
      },
      "source": [
        "data.groupby('cp').mean()"
      ],
      "execution_count": 0,
      "outputs": [
        {
          "output_type": "execute_result",
          "data": {
            "text/html": [
              "<div>\n",
              "<style scoped>\n",
              "    .dataframe tbody tr th:only-of-type {\n",
              "        vertical-align: middle;\n",
              "    }\n",
              "\n",
              "    .dataframe tbody tr th {\n",
              "        vertical-align: top;\n",
              "    }\n",
              "\n",
              "    .dataframe thead th {\n",
              "        text-align: right;\n",
              "    }\n",
              "</style>\n",
              "<table border=\"1\" class=\"dataframe\">\n",
              "  <thead>\n",
              "    <tr style=\"text-align: right;\">\n",
              "      <th></th>\n",
              "      <th>age</th>\n",
              "      <th>sex</th>\n",
              "      <th>trestbps</th>\n",
              "      <th>chol</th>\n",
              "      <th>fbs</th>\n",
              "      <th>restecg</th>\n",
              "      <th>thalac</th>\n",
              "      <th>exang</th>\n",
              "      <th>oldpeak</th>\n",
              "      <th>slope</th>\n",
              "      <th>nmaj</th>\n",
              "      <th>thal</th>\n",
              "      <th>output</th>\n",
              "    </tr>\n",
              "    <tr>\n",
              "      <th>cp</th>\n",
              "      <th></th>\n",
              "      <th></th>\n",
              "      <th></th>\n",
              "      <th></th>\n",
              "      <th></th>\n",
              "      <th></th>\n",
              "      <th></th>\n",
              "      <th></th>\n",
              "      <th></th>\n",
              "      <th></th>\n",
              "      <th></th>\n",
              "      <th></th>\n",
              "      <th></th>\n",
              "    </tr>\n",
              "  </thead>\n",
              "  <tbody>\n",
              "    <tr>\n",
              "      <th>0</th>\n",
              "      <td>51.360000</td>\n",
              "      <td>0.640000</td>\n",
              "      <td>128.400000</td>\n",
              "      <td>244.780000</td>\n",
              "      <td>0.100000</td>\n",
              "      <td>0.760000</td>\n",
              "      <td>162.420000</td>\n",
              "      <td>0.080000</td>\n",
              "      <td>0.316000</td>\n",
              "      <td>0.520000</td>\n",
              "      <td>0.400000</td>\n",
              "      <td>0.260000</td>\n",
              "      <td>0.280000</td>\n",
              "    </tr>\n",
              "    <tr>\n",
              "      <th>1</th>\n",
              "      <td>53.697674</td>\n",
              "      <td>0.593023</td>\n",
              "      <td>130.290698</td>\n",
              "      <td>243.965116</td>\n",
              "      <td>0.197674</td>\n",
              "      <td>0.848837</td>\n",
              "      <td>155.406977</td>\n",
              "      <td>0.127907</td>\n",
              "      <td>0.806977</td>\n",
              "      <td>0.825581</td>\n",
              "      <td>0.523256</td>\n",
              "      <td>0.325581</td>\n",
              "      <td>0.383721</td>\n",
              "    </tr>\n",
              "    <tr>\n",
              "      <th>2</th>\n",
              "      <td>55.722222</td>\n",
              "      <td>0.722222</td>\n",
              "      <td>132.201389</td>\n",
              "      <td>250.513889</td>\n",
              "      <td>0.125000</td>\n",
              "      <td>1.118056</td>\n",
              "      <td>140.680556</td>\n",
              "      <td>0.555556</td>\n",
              "      <td>1.373611</td>\n",
              "      <td>1.243056</td>\n",
              "      <td>0.951389</td>\n",
              "      <td>0.722222</td>\n",
              "      <td>1.569444</td>\n",
              "    </tr>\n",
              "    <tr>\n",
              "      <th>3</th>\n",
              "      <td>55.869565</td>\n",
              "      <td>0.826087</td>\n",
              "      <td>140.869565</td>\n",
              "      <td>237.130435</td>\n",
              "      <td>0.217391</td>\n",
              "      <td>1.217391</td>\n",
              "      <td>155.956522</td>\n",
              "      <td>0.173913</td>\n",
              "      <td>1.391304</td>\n",
              "      <td>1.086957</td>\n",
              "      <td>0.478261</td>\n",
              "      <td>0.521739</td>\n",
              "      <td>0.478261</td>\n",
              "    </tr>\n",
              "  </tbody>\n",
              "</table>\n",
              "</div>"
            ],
            "text/plain": [
              "          age       sex    trestbps  ...      nmaj      thal    output\n",
              "cp                                   ...                              \n",
              "0   51.360000  0.640000  128.400000  ...  0.400000  0.260000  0.280000\n",
              "1   53.697674  0.593023  130.290698  ...  0.523256  0.325581  0.383721\n",
              "2   55.722222  0.722222  132.201389  ...  0.951389  0.722222  1.569444\n",
              "3   55.869565  0.826087  140.869565  ...  0.478261  0.521739  0.478261\n",
              "\n",
              "[4 rows x 13 columns]"
            ]
          },
          "metadata": {
            "tags": []
          },
          "execution_count": 467
        }
      ]
    },
    {
      "cell_type": "code",
      "metadata": {
        "id": "H6qKVDA1p6eA",
        "colab_type": "code",
        "outputId": "df8ceb04-4141-46b7-f579-1bfb68d8dbaf",
        "colab": {
          "base_uri": "https://localhost:8080/",
          "height": 173
        }
      },
      "source": [
        "data.groupby('slope').mean()"
      ],
      "execution_count": 0,
      "outputs": [
        {
          "output_type": "execute_result",
          "data": {
            "text/html": [
              "<div>\n",
              "<style scoped>\n",
              "    .dataframe tbody tr th:only-of-type {\n",
              "        vertical-align: middle;\n",
              "    }\n",
              "\n",
              "    .dataframe tbody tr th {\n",
              "        vertical-align: top;\n",
              "    }\n",
              "\n",
              "    .dataframe thead th {\n",
              "        text-align: right;\n",
              "    }\n",
              "</style>\n",
              "<table border=\"1\" class=\"dataframe\">\n",
              "  <thead>\n",
              "    <tr style=\"text-align: right;\">\n",
              "      <th></th>\n",
              "      <th>age</th>\n",
              "      <th>sex</th>\n",
              "      <th>cp</th>\n",
              "      <th>trestbps</th>\n",
              "      <th>chol</th>\n",
              "      <th>fbs</th>\n",
              "      <th>restecg</th>\n",
              "      <th>thalac</th>\n",
              "      <th>exang</th>\n",
              "      <th>oldpeak</th>\n",
              "      <th>nmaj</th>\n",
              "      <th>thal</th>\n",
              "      <th>output</th>\n",
              "    </tr>\n",
              "    <tr>\n",
              "      <th>slope</th>\n",
              "      <th></th>\n",
              "      <th></th>\n",
              "      <th></th>\n",
              "      <th></th>\n",
              "      <th></th>\n",
              "      <th></th>\n",
              "      <th></th>\n",
              "      <th></th>\n",
              "      <th></th>\n",
              "      <th></th>\n",
              "      <th></th>\n",
              "      <th></th>\n",
              "      <th></th>\n",
              "    </tr>\n",
              "  </thead>\n",
              "  <tbody>\n",
              "    <tr>\n",
              "      <th>0</th>\n",
              "      <td>52.661972</td>\n",
              "      <td>0.669014</td>\n",
              "      <td>1.218310</td>\n",
              "      <td>130.133803</td>\n",
              "      <td>245.633803</td>\n",
              "      <td>0.140845</td>\n",
              "      <td>0.845070</td>\n",
              "      <td>160.471831</td>\n",
              "      <td>0.183099</td>\n",
              "      <td>0.408451</td>\n",
              "      <td>0.556338</td>\n",
              "      <td>0.302817</td>\n",
              "      <td>0.408451</td>\n",
              "    </tr>\n",
              "    <tr>\n",
              "      <th>1</th>\n",
              "      <td>55.380952</td>\n",
              "      <td>0.761905</td>\n",
              "      <td>1.714286</td>\n",
              "      <td>139.476190</td>\n",
              "      <td>237.666667</td>\n",
              "      <td>0.285714</td>\n",
              "      <td>1.190476</td>\n",
              "      <td>144.904762</td>\n",
              "      <td>0.428571</td>\n",
              "      <td>2.714286</td>\n",
              "      <td>0.571429</td>\n",
              "      <td>0.761905</td>\n",
              "      <td>1.476190</td>\n",
              "    </tr>\n",
              "    <tr>\n",
              "      <th>2</th>\n",
              "      <td>56.100000</td>\n",
              "      <td>0.678571</td>\n",
              "      <td>1.671429</td>\n",
              "      <td>132.100000</td>\n",
              "      <td>249.121429</td>\n",
              "      <td>0.135714</td>\n",
              "      <td>1.107143</td>\n",
              "      <td>139.292857</td>\n",
              "      <td>0.457143</td>\n",
              "      <td>1.428571</td>\n",
              "      <td>0.871429</td>\n",
              "      <td>0.700000</td>\n",
              "      <td>1.392857</td>\n",
              "    </tr>\n",
              "  </tbody>\n",
              "</table>\n",
              "</div>"
            ],
            "text/plain": [
              "             age       sex        cp  ...      nmaj      thal    output\n",
              "slope                                 ...                              \n",
              "0      52.661972  0.669014  1.218310  ...  0.556338  0.302817  0.408451\n",
              "1      55.380952  0.761905  1.714286  ...  0.571429  0.761905  1.476190\n",
              "2      56.100000  0.678571  1.671429  ...  0.871429  0.700000  1.392857\n",
              "\n",
              "[3 rows x 13 columns]"
            ]
          },
          "metadata": {
            "tags": []
          },
          "execution_count": 468
        }
      ]
    },
    {
      "cell_type": "code",
      "metadata": {
        "id": "kzJSywc7FHAZ",
        "colab_type": "code",
        "colab": {}
      },
      "source": [
        "#tried the encoder of sklearn and compared with manual encoding. results had no huge difference.\n",
        "# encoder = LabelEncoder()\n",
        "# data['cp'] =  encoder.fit_transform(data['cp'])\n",
        "# data['slope'] =  encoder.fit_transform(data['slope'])\n",
        "# data['thal'] =  encoder.fit_transform(data['thal'])\n",
        "# data['nmaj'] =  encoder.fit_transform(data['nmaj'])\n",
        "# data.head(10)"
      ],
      "execution_count": 0,
      "outputs": []
    },
    {
      "cell_type": "code",
      "metadata": {
        "id": "Cdn6LwdYFkHq",
        "colab_type": "code",
        "outputId": "fcc0b4a2-2364-4497-fe0f-52ca197ca182",
        "colab": {
          "base_uri": "https://localhost:8080/",
          "height": 340
        }
      },
      "source": [
        "data.info()"
      ],
      "execution_count": 0,
      "outputs": [
        {
          "output_type": "stream",
          "text": [
            "<class 'pandas.core.frame.DataFrame'>\n",
            "RangeIndex: 303 entries, 0 to 302\n",
            "Data columns (total 14 columns):\n",
            "age         303 non-null int64\n",
            "sex         303 non-null int64\n",
            "cp          303 non-null int64\n",
            "trestbps    303 non-null int64\n",
            "chol        303 non-null int64\n",
            "fbs         303 non-null int64\n",
            "restecg     303 non-null int64\n",
            "thalac      303 non-null int64\n",
            "exang       303 non-null int64\n",
            "oldpeak     303 non-null float64\n",
            "slope       303 non-null int64\n",
            "nmaj        303 non-null float64\n",
            "thal        303 non-null float64\n",
            "output      303 non-null int64\n",
            "dtypes: float64(3), int64(11)\n",
            "memory usage: 33.3 KB\n"
          ],
          "name": "stdout"
        }
      ]
    },
    {
      "cell_type": "code",
      "metadata": {
        "id": "EFe5MVzmMnxk",
        "colab_type": "code",
        "outputId": "a2be770f-7ef8-4ee3-83c9-d5b71d0a0f57",
        "colab": {
          "base_uri": "https://localhost:8080/",
          "height": 34
        }
      },
      "source": [
        "data.shape"
      ],
      "execution_count": 0,
      "outputs": [
        {
          "output_type": "execute_result",
          "data": {
            "text/plain": [
              "(303, 14)"
            ]
          },
          "metadata": {
            "tags": []
          },
          "execution_count": 470
        }
      ]
    },
    {
      "cell_type": "code",
      "metadata": {
        "id": "dwZsTFV0GQHm",
        "colab_type": "code",
        "colab": {}
      },
      "source": [
        "# now splitting the data into x and y.\n",
        "x=data.drop('output',axis=1)"
      ],
      "execution_count": 0,
      "outputs": []
    },
    {
      "cell_type": "code",
      "metadata": {
        "id": "aEPETqoNhuLU",
        "colab_type": "code",
        "outputId": "ca65fbf8-2f25-4d11-a127-3656d324f01b",
        "colab": {
          "base_uri": "https://localhost:8080/",
          "height": 323
        }
      },
      "source": [
        "x.info()"
      ],
      "execution_count": 0,
      "outputs": [
        {
          "output_type": "stream",
          "text": [
            "<class 'pandas.core.frame.DataFrame'>\n",
            "RangeIndex: 303 entries, 0 to 302\n",
            "Data columns (total 13 columns):\n",
            "age         303 non-null int64\n",
            "sex         303 non-null int64\n",
            "cp          303 non-null int64\n",
            "trestbps    303 non-null int64\n",
            "chol        303 non-null int64\n",
            "fbs         303 non-null int64\n",
            "restecg     303 non-null int64\n",
            "thalac      303 non-null int64\n",
            "exang       303 non-null int64\n",
            "oldpeak     303 non-null float64\n",
            "slope       303 non-null int64\n",
            "nmaj        303 non-null float64\n",
            "thal        303 non-null float64\n",
            "dtypes: float64(3), int64(10)\n",
            "memory usage: 30.9 KB\n"
          ],
          "name": "stdout"
        }
      ]
    },
    {
      "cell_type": "code",
      "metadata": {
        "id": "XWeHnVKBHKOt",
        "colab_type": "code",
        "colab": {}
      },
      "source": [
        "y=data['output']"
      ],
      "execution_count": 0,
      "outputs": []
    },
    {
      "cell_type": "code",
      "metadata": {
        "id": "nAlVPdk8b-f_",
        "colab_type": "code",
        "outputId": "9c865e28-1c29-46c7-aa9a-affa62249e60",
        "colab": {
          "base_uri": "https://localhost:8080/",
          "height": 235
        }
      },
      "source": [
        "data.groupby('output').mean()"
      ],
      "execution_count": 0,
      "outputs": [
        {
          "output_type": "execute_result",
          "data": {
            "text/html": [
              "<div>\n",
              "<style scoped>\n",
              "    .dataframe tbody tr th:only-of-type {\n",
              "        vertical-align: middle;\n",
              "    }\n",
              "\n",
              "    .dataframe tbody tr th {\n",
              "        vertical-align: top;\n",
              "    }\n",
              "\n",
              "    .dataframe thead th {\n",
              "        text-align: right;\n",
              "    }\n",
              "</style>\n",
              "<table border=\"1\" class=\"dataframe\">\n",
              "  <thead>\n",
              "    <tr style=\"text-align: right;\">\n",
              "      <th></th>\n",
              "      <th>age</th>\n",
              "      <th>sex</th>\n",
              "      <th>cp</th>\n",
              "      <th>trestbps</th>\n",
              "      <th>chol</th>\n",
              "      <th>fbs</th>\n",
              "      <th>restecg</th>\n",
              "      <th>thalac</th>\n",
              "      <th>exang</th>\n",
              "      <th>oldpeak</th>\n",
              "      <th>slope</th>\n",
              "      <th>nmaj</th>\n",
              "      <th>thal</th>\n",
              "    </tr>\n",
              "    <tr>\n",
              "      <th>output</th>\n",
              "      <th></th>\n",
              "      <th></th>\n",
              "      <th></th>\n",
              "      <th></th>\n",
              "      <th></th>\n",
              "      <th></th>\n",
              "      <th></th>\n",
              "      <th></th>\n",
              "      <th></th>\n",
              "      <th></th>\n",
              "      <th></th>\n",
              "      <th></th>\n",
              "      <th></th>\n",
              "    </tr>\n",
              "  </thead>\n",
              "  <tbody>\n",
              "    <tr>\n",
              "      <th>0</th>\n",
              "      <td>52.585366</td>\n",
              "      <td>0.560976</td>\n",
              "      <td>0.512195</td>\n",
              "      <td>129.250000</td>\n",
              "      <td>242.640244</td>\n",
              "      <td>0.140244</td>\n",
              "      <td>0.835366</td>\n",
              "      <td>158.378049</td>\n",
              "      <td>0.140244</td>\n",
              "      <td>0.586585</td>\n",
              "      <td>0.597561</td>\n",
              "      <td>3.810976</td>\n",
              "      <td>0.256098</td>\n",
              "    </tr>\n",
              "    <tr>\n",
              "      <th>1</th>\n",
              "      <td>55.381818</td>\n",
              "      <td>0.836364</td>\n",
              "      <td>0.254545</td>\n",
              "      <td>133.254545</td>\n",
              "      <td>249.109091</td>\n",
              "      <td>0.072727</td>\n",
              "      <td>1.163636</td>\n",
              "      <td>145.927273</td>\n",
              "      <td>0.454545</td>\n",
              "      <td>1.005455</td>\n",
              "      <td>1.127273</td>\n",
              "      <td>5.345455</td>\n",
              "      <td>0.654545</td>\n",
              "    </tr>\n",
              "    <tr>\n",
              "      <th>2</th>\n",
              "      <td>58.027778</td>\n",
              "      <td>0.805556</td>\n",
              "      <td>0.138889</td>\n",
              "      <td>134.194444</td>\n",
              "      <td>259.277778</td>\n",
              "      <td>0.250000</td>\n",
              "      <td>0.916667</td>\n",
              "      <td>135.583333</td>\n",
              "      <td>0.611111</td>\n",
              "      <td>1.780556</td>\n",
              "      <td>1.444444</td>\n",
              "      <td>6.027778</td>\n",
              "      <td>1.000000</td>\n",
              "    </tr>\n",
              "    <tr>\n",
              "      <th>3</th>\n",
              "      <td>56.000000</td>\n",
              "      <td>0.800000</td>\n",
              "      <td>0.114286</td>\n",
              "      <td>135.457143</td>\n",
              "      <td>246.457143</td>\n",
              "      <td>0.228571</td>\n",
              "      <td>1.285714</td>\n",
              "      <td>132.057143</td>\n",
              "      <td>0.657143</td>\n",
              "      <td>1.962857</td>\n",
              "      <td>1.371429</td>\n",
              "      <td>6.285714</td>\n",
              "      <td>0.857143</td>\n",
              "    </tr>\n",
              "    <tr>\n",
              "      <th>4</th>\n",
              "      <td>59.692308</td>\n",
              "      <td>0.846154</td>\n",
              "      <td>0.153846</td>\n",
              "      <td>138.769231</td>\n",
              "      <td>253.384615</td>\n",
              "      <td>0.076923</td>\n",
              "      <td>1.615385</td>\n",
              "      <td>140.615385</td>\n",
              "      <td>0.461538</td>\n",
              "      <td>2.361538</td>\n",
              "      <td>1.538462</td>\n",
              "      <td>6.230769</td>\n",
              "      <td>1.000000</td>\n",
              "    </tr>\n",
              "  </tbody>\n",
              "</table>\n",
              "</div>"
            ],
            "text/plain": [
              "              age       sex        cp  ...     slope      nmaj      thal\n",
              "output                                 ...                              \n",
              "0       52.585366  0.560976  0.512195  ...  0.597561  3.810976  0.256098\n",
              "1       55.381818  0.836364  0.254545  ...  1.127273  5.345455  0.654545\n",
              "2       58.027778  0.805556  0.138889  ...  1.444444  6.027778  1.000000\n",
              "3       56.000000  0.800000  0.114286  ...  1.371429  6.285714  0.857143\n",
              "4       59.692308  0.846154  0.153846  ...  1.538462  6.230769  1.000000\n",
              "\n",
              "[5 rows x 13 columns]"
            ]
          },
          "metadata": {
            "tags": []
          },
          "execution_count": 449
        }
      ]
    },
    {
      "cell_type": "code",
      "metadata": {
        "id": "XkJ7dZ7IbKN2",
        "colab_type": "code",
        "colab": {}
      },
      "source": [
        "#mapping the results of 5 categories into binary.\n",
        "y=data['output'].map(lambda i:1 if i>1 else 0)"
      ],
      "execution_count": 0,
      "outputs": []
    },
    {
      "cell_type": "code",
      "metadata": {
        "id": "QyickPLwdsOH",
        "colab_type": "code",
        "outputId": "481a79c5-84c1-4ecd-ebc2-3282f3f906c2",
        "colab": {
          "base_uri": "https://localhost:8080/",
          "height": 221
        }
      },
      "source": [
        "y"
      ],
      "execution_count": 0,
      "outputs": [
        {
          "output_type": "execute_result",
          "data": {
            "text/plain": [
              "0      0\n",
              "1      1\n",
              "2      0\n",
              "3      0\n",
              "4      0\n",
              "      ..\n",
              "298    0\n",
              "299    1\n",
              "300    1\n",
              "301    0\n",
              "302    0\n",
              "Name: output, Length: 303, dtype: int64"
            ]
          },
          "metadata": {
            "tags": []
          },
          "execution_count": 539
        }
      ]
    },
    {
      "cell_type": "markdown",
      "metadata": {
        "id": "cCf6qICFGVV5",
        "colab_type": "text"
      },
      "source": [
        "# train-test-split"
      ]
    },
    {
      "cell_type": "code",
      "metadata": {
        "id": "7FkPDY8YGaEx",
        "colab_type": "code",
        "colab": {}
      },
      "source": [
        "from sklearn.model_selection import train_test_split"
      ],
      "execution_count": 0,
      "outputs": []
    },
    {
      "cell_type": "code",
      "metadata": {
        "id": "EqMylpdWGiXx",
        "colab_type": "code",
        "colab": {}
      },
      "source": [
        "#splitting the data into train test split sets.\n",
        "x_train,x_test,y_train,y_test=train_test_split(x,y,stratify=y,random_state=42)"
      ],
      "execution_count": 0,
      "outputs": []
    },
    {
      "cell_type": "code",
      "metadata": {
        "id": "-t6HQH6FGrse",
        "colab_type": "code",
        "outputId": "249f7535-5f87-4ac3-9f01-43c58c322e8c",
        "colab": {
          "base_uri": "https://localhost:8080/",
          "height": 34
        }
      },
      "source": [
        "x_train.shape"
      ],
      "execution_count": 0,
      "outputs": [
        {
          "output_type": "execute_result",
          "data": {
            "text/plain": [
              "(227, 13)"
            ]
          },
          "metadata": {
            "tags": []
          },
          "execution_count": 543
        }
      ]
    },
    {
      "cell_type": "code",
      "metadata": {
        "id": "j_GFN8vzG1Oc",
        "colab_type": "code",
        "outputId": "f1fec857-c2ae-4f81-fa1b-7b5382bdff19",
        "colab": {
          "base_uri": "https://localhost:8080/",
          "height": 323
        }
      },
      "source": [
        "x_train.info()"
      ],
      "execution_count": 0,
      "outputs": [
        {
          "output_type": "stream",
          "text": [
            "<class 'pandas.core.frame.DataFrame'>\n",
            "Int64Index: 227 entries, 184 to 6\n",
            "Data columns (total 13 columns):\n",
            "age         227 non-null int64\n",
            "sex         227 non-null int64\n",
            "cp          227 non-null int64\n",
            "trestbps    227 non-null int64\n",
            "chol        227 non-null int64\n",
            "fbs         227 non-null int64\n",
            "restecg     227 non-null int64\n",
            "thalac      227 non-null int64\n",
            "exang       227 non-null int64\n",
            "oldpeak     227 non-null float64\n",
            "slope       227 non-null int64\n",
            "nmaj        227 non-null float64\n",
            "thal        227 non-null float64\n",
            "dtypes: float64(3), int64(10)\n",
            "memory usage: 24.8 KB\n"
          ],
          "name": "stdout"
        }
      ]
    },
    {
      "cell_type": "code",
      "metadata": {
        "id": "MGVIhfVnamcs",
        "colab_type": "code",
        "colab": {}
      },
      "source": [
        "#just trying to see if standardisation made any difference. the results were degrading. \n",
        "# from sklearn.preprocessing import StandardScaler\n",
        "# sc_x = StandardScaler()\n",
        "# x_train[:, [0,3,4,7,9]] = sc_x.fit_transform(x_train[:, [0,3,4,7,9]])\n",
        "# x_test[:, [0,3,4,7,9]] = sc_x.transform(x_test[:, [0,3,4,7,9]])"
      ],
      "execution_count": 0,
      "outputs": []
    },
    {
      "cell_type": "markdown",
      "metadata": {
        "id": "w9tuXTXYHUAF",
        "colab_type": "text"
      },
      "source": [
        "# Perceptron model"
      ]
    },
    {
      "cell_type": "markdown",
      "metadata": {
        "id": "bcNnIngay0P0",
        "colab_type": "text"
      },
      "source": [
        "Model Used:\n",
        "\n",
        "$y = 1, \\mbox{if} \\sum_i w_i*x_i >= b$\n",
        "\n",
        "$y = 0, \\mbox{otherwise}$\n",
        "\n",
        "\n"
      ]
    },
    {
      "cell_type": "code",
      "metadata": {
        "id": "Sks2R7gPxxwV",
        "colab_type": "code",
        "colab": {}
      },
      "source": [
        "import matplotlib.pyplot as plt"
      ],
      "execution_count": 0,
      "outputs": []
    },
    {
      "cell_type": "code",
      "metadata": {
        "id": "Vil2f03MHWdK",
        "colab_type": "code",
        "colab": {}
      },
      "source": [
        "#made the perceptron training model. \n",
        "#2 hyper parameters used. i.e. Learning rate and epochs.\n",
        "class Perceptron:\n",
        "  def __init__(self):\n",
        "    self.w=None\n",
        "    self.b=None\n",
        "  def model(self,x):\n",
        "    if( np.dot(self.w,x) >= self.b ):\n",
        "      return 1\n",
        "    else:\n",
        "      return 0\n",
        "  def predict(self,x):\n",
        "    y_pred=[]\n",
        "    for i in x:\n",
        "      y_pred.append(self.model(i))\n",
        "    return np.array(y_pred)\n",
        "  def fit(self,x,y, epochs = 1, lr = 1):\n",
        "    self.w=np.ones(x.shape[1])\n",
        "    self.b=0\n",
        "    w_mat=[]\n",
        "    accuracy={}\n",
        "    max_accuracy=0\n",
        "    for k in range(0,epochs):\n",
        "      for i,j in zip(x,y):\n",
        "        y_pred=self.model(i)\n",
        "        if( y_pred == 0 and j == 1 ):\n",
        "          self.w = self.w + lr * i\n",
        "          self.b = self.b + lr * 1\n",
        "        elif( y_pred == 1 and j == 0 ):\n",
        "          self.w = self.w - lr * i\n",
        "          self.b = self.b - lr * 1\n",
        "      w_mat.append(self.w)\n",
        "      accuracy[k]=accuracy_score(self.predict(x),y)\n",
        "      if(accuracy[k]>max_accuracy):\n",
        "        max_accuracy=accuracy[k]\n",
        "        chkpt_w=self.w\n",
        "        chkpt_b=self.b\n",
        "    self.w=chkpt_w\n",
        "    self.b=chkpt_b\n",
        "    print('maximum accuracy is: ',max_accuracy)\n",
        "    plt.plot(list(accuracy.values()))\n",
        "    plt.ylim([0,1])\n",
        "    plt.show()\n",
        "    return w_mat"
      ],
      "execution_count": 0,
      "outputs": []
    },
    {
      "cell_type": "code",
      "metadata": {
        "id": "WvlQpSaaJ3oR",
        "colab_type": "code",
        "colab": {}
      },
      "source": [
        "perceptron = Perceptron()"
      ],
      "execution_count": 0,
      "outputs": []
    },
    {
      "cell_type": "code",
      "metadata": {
        "id": "dzlKYZP0J74m",
        "colab_type": "code",
        "outputId": "b3159b74-fe94-46b7-bfe5-ef556d5f5f35",
        "colab": {
          "base_uri": "https://localhost:8080/",
          "height": 286
        }
      },
      "source": [
        "# x_train=x_train.values\n",
        "# y_train=y_train.values\n",
        "w_mat=perceptron.fit(x_train,y_train,700,0.00001)"
      ],
      "execution_count": 0,
      "outputs": [
        {
          "output_type": "stream",
          "text": [
            "maximum accuracy is:  0.8502202643171806\n"
          ],
          "name": "stdout"
        },
        {
          "output_type": "display_data",
          "data": {
            "image/png": "[encoded data removed]",
            "text/plain": [
              "<Figure size 432x288 with 1 Axes>"
            ]
          },
          "metadata": {
            "tags": []
          }
        }
      ]
    },
    {
      "cell_type": "code",
      "metadata": {
        "id": "42QCr-e7r5vR",
        "colab_type": "code",
        "outputId": "0cecf22a-2818-4ce2-bdba-b9fac8367822",
        "colab": {
          "base_uri": "https://localhost:8080/",
          "height": 265
        }
      },
      "source": [
        "plt.plot(perceptron.w)\n",
        "plt.show()"
      ],
      "execution_count": 0,
      "outputs": [
        {
          "output_type": "display_data",
          "data": {
            "image/png": "[encoded data removed]",
            "text/plain": [
              "<Figure size 432x288 with 1 Axes>"
            ]
          },
          "metadata": {
            "tags": []
          }
        }
      ]
    },
    {
      "cell_type": "markdown",
      "metadata": {
        "id": "3m-3GdJax-Pw",
        "colab_type": "text"
      },
      "source": [
        "# Accuracy Obtained"
      ]
    },
    {
      "cell_type": "code",
      "metadata": {
        "id": "OS38RH6aOcy5",
        "colab_type": "code",
        "colab": {}
      },
      "source": [
        "from sklearn.metrics import accuracy_score"
      ],
      "execution_count": 0,
      "outputs": []
    },
    {
      "cell_type": "code",
      "metadata": {
        "id": "qvyDzCZ7J-9s",
        "colab_type": "code",
        "outputId": "d541b0cd-d71f-45ff-cfd0-497a73828fa0",
        "colab": {
          "base_uri": "https://localhost:8080/",
          "height": 34
        }
      },
      "source": [
        "#train accuracy obtained.\n",
        "y_pred=perceptron.predict(x_train)\n",
        "print(accuracy_score(y_pred,y_train))"
      ],
      "execution_count": 0,
      "outputs": [
        {
          "output_type": "stream",
          "text": [
            "0.8502202643171806\n"
          ],
          "name": "stdout"
        }
      ]
    },
    {
      "cell_type": "code",
      "metadata": {
        "id": "7wwsq1rbOozR",
        "colab_type": "code",
        "outputId": "fa8f56e6-46c3-48cd-e0bb-bdd67cd07245",
        "colab": {
          "base_uri": "https://localhost:8080/",
          "height": 34
        }
      },
      "source": [
        "#test accuracy obtained.\n",
        "# x_test=x_test.values\n",
        "# y_test=y_test.values\n",
        "y_pred=perceptron.predict(x_test)\n",
        "print(accuracy_score(y_pred,y_test))"
      ],
      "execution_count": 0,
      "outputs": [
        {
          "output_type": "stream",
          "text": [
            "0.868421052631579\n"
          ],
          "name": "stdout"
        }
      ]
    },
    {
      "cell_type": "markdown",
      "metadata": {
        "id": "m50_dEnZ0xqx",
        "colab_type": "text"
      },
      "source": [
        "# Practical Use"
      ]
    },
    {
      "cell_type": "code",
      "metadata": {
        "id": "NQrqckPp028I",
        "colab_type": "code",
        "outputId": "1034e167-e3aa-4209-f9ad-2635b1919f4f",
        "colab": {
          "base_uri": "https://localhost:8080/",
          "height": 204
        }
      },
      "source": [
        "x_test=pd.DataFrame(x_test)\n",
        "x_test.head()"
      ],
      "execution_count": 0,
      "outputs": [
        {
          "output_type": "execute_result",
          "data": {
            "text/html": [
              "<div>\n",
              "<style scoped>\n",
              "    .dataframe tbody tr th:only-of-type {\n",
              "        vertical-align: middle;\n",
              "    }\n",
              "\n",
              "    .dataframe tbody tr th {\n",
              "        vertical-align: top;\n",
              "    }\n",
              "\n",
              "    .dataframe thead th {\n",
              "        text-align: right;\n",
              "    }\n",
              "</style>\n",
              "<table border=\"1\" class=\"dataframe\">\n",
              "  <thead>\n",
              "    <tr style=\"text-align: right;\">\n",
              "      <th></th>\n",
              "      <th>0</th>\n",
              "      <th>1</th>\n",
              "      <th>2</th>\n",
              "      <th>3</th>\n",
              "      <th>4</th>\n",
              "      <th>5</th>\n",
              "      <th>6</th>\n",
              "      <th>7</th>\n",
              "      <th>8</th>\n",
              "      <th>9</th>\n",
              "      <th>10</th>\n",
              "      <th>11</th>\n",
              "      <th>12</th>\n",
              "    </tr>\n",
              "  </thead>\n",
              "  <tbody>\n",
              "    <tr>\n",
              "      <th>0</th>\n",
              "      <td>56.0</td>\n",
              "      <td>1.0</td>\n",
              "      <td>3.0</td>\n",
              "      <td>120.0</td>\n",
              "      <td>193.0</td>\n",
              "      <td>0.0</td>\n",
              "      <td>2.0</td>\n",
              "      <td>162.0</td>\n",
              "      <td>0.0</td>\n",
              "      <td>1.9</td>\n",
              "      <td>2.0</td>\n",
              "      <td>0.0</td>\n",
              "      <td>1.0</td>\n",
              "    </tr>\n",
              "    <tr>\n",
              "      <th>1</th>\n",
              "      <td>63.0</td>\n",
              "      <td>1.0</td>\n",
              "      <td>2.0</td>\n",
              "      <td>130.0</td>\n",
              "      <td>254.0</td>\n",
              "      <td>0.0</td>\n",
              "      <td>2.0</td>\n",
              "      <td>147.0</td>\n",
              "      <td>0.0</td>\n",
              "      <td>1.4</td>\n",
              "      <td>2.0</td>\n",
              "      <td>1.0</td>\n",
              "      <td>1.0</td>\n",
              "    </tr>\n",
              "    <tr>\n",
              "      <th>2</th>\n",
              "      <td>54.0</td>\n",
              "      <td>1.0</td>\n",
              "      <td>2.0</td>\n",
              "      <td>140.0</td>\n",
              "      <td>239.0</td>\n",
              "      <td>0.0</td>\n",
              "      <td>0.0</td>\n",
              "      <td>160.0</td>\n",
              "      <td>0.0</td>\n",
              "      <td>1.2</td>\n",
              "      <td>0.0</td>\n",
              "      <td>0.0</td>\n",
              "      <td>0.0</td>\n",
              "    </tr>\n",
              "    <tr>\n",
              "      <th>3</th>\n",
              "      <td>57.0</td>\n",
              "      <td>1.0</td>\n",
              "      <td>2.0</td>\n",
              "      <td>130.0</td>\n",
              "      <td>131.0</td>\n",
              "      <td>0.0</td>\n",
              "      <td>0.0</td>\n",
              "      <td>115.0</td>\n",
              "      <td>1.0</td>\n",
              "      <td>1.2</td>\n",
              "      <td>2.0</td>\n",
              "      <td>1.0</td>\n",
              "      <td>1.0</td>\n",
              "    </tr>\n",
              "    <tr>\n",
              "      <th>4</th>\n",
              "      <td>60.0</td>\n",
              "      <td>0.0</td>\n",
              "      <td>1.0</td>\n",
              "      <td>120.0</td>\n",
              "      <td>178.0</td>\n",
              "      <td>1.0</td>\n",
              "      <td>0.0</td>\n",
              "      <td>96.0</td>\n",
              "      <td>0.0</td>\n",
              "      <td>0.0</td>\n",
              "      <td>0.0</td>\n",
              "      <td>0.0</td>\n",
              "      <td>0.0</td>\n",
              "    </tr>\n",
              "  </tbody>\n",
              "</table>\n",
              "</div>"
            ],
            "text/plain": [
              "      0    1    2      3      4    5    6      7    8    9   10   11   12\n",
              "0  56.0  1.0  3.0  120.0  193.0  0.0  2.0  162.0  0.0  1.9  2.0  0.0  1.0\n",
              "1  63.0  1.0  2.0  130.0  254.0  0.0  2.0  147.0  0.0  1.4  2.0  1.0  1.0\n",
              "2  54.0  1.0  2.0  140.0  239.0  0.0  0.0  160.0  0.0  1.2  0.0  0.0  0.0\n",
              "3  57.0  1.0  2.0  130.0  131.0  0.0  0.0  115.0  1.0  1.2  2.0  1.0  1.0\n",
              "4  60.0  0.0  1.0  120.0  178.0  1.0  0.0   96.0  0.0  0.0  0.0  0.0  0.0"
            ]
          },
          "metadata": {
            "tags": []
          },
          "execution_count": 672
        }
      ]
    },
    {
      "cell_type": "code",
      "metadata": {
        "id": "BRcUaqAJ1HbO",
        "colab_type": "code",
        "outputId": "87a9705e-8bb9-48f4-845b-290b694b9412",
        "colab": {
          "base_uri": "https://localhost:8080/",
          "height": 97
        }
      },
      "source": [
        "# This is just an example. it can be made to be entered by user and for values not entered, 0 can be assigned as would have no effect on threshold.\n",
        "x_test_model=np.array([[56,0,3,150,254,1,2,1.9,0,0,0,0,1]])\n",
        "print(x_test_model.shape)\n",
        "x_test_model=pd.DataFrame(x_test_model)\n",
        "x_test_model.head()\n",
        "\n",
        "    \n"
      ],
      "execution_count": 0,
      "outputs": [
        {
          "output_type": "stream",
          "text": [
            "(1, 13)\n"
          ],
          "name": "stdout"
        },
        {
          "output_type": "execute_result",
          "data": {
            "text/html": [
              "<div>\n",
              "<style scoped>\n",
              "    .dataframe tbody tr th:only-of-type {\n",
              "        vertical-align: middle;\n",
              "    }\n",
              "\n",
              "    .dataframe tbody tr th {\n",
              "        vertical-align: top;\n",
              "    }\n",
              "\n",
              "    .dataframe thead th {\n",
              "        text-align: right;\n",
              "    }\n",
              "</style>\n",
              "<table border=\"1\" class=\"dataframe\">\n",
              "  <thead>\n",
              "    <tr style=\"text-align: right;\">\n",
              "      <th></th>\n",
              "      <th>0</th>\n",
              "      <th>1</th>\n",
              "      <th>2</th>\n",
              "      <th>3</th>\n",
              "      <th>4</th>\n",
              "      <th>5</th>\n",
              "      <th>6</th>\n",
              "      <th>7</th>\n",
              "      <th>8</th>\n",
              "      <th>9</th>\n",
              "      <th>10</th>\n",
              "      <th>11</th>\n",
              "      <th>12</th>\n",
              "    </tr>\n",
              "  </thead>\n",
              "  <tbody>\n",
              "    <tr>\n",
              "      <th>0</th>\n",
              "      <td>56.0</td>\n",
              "      <td>0.0</td>\n",
              "      <td>3.0</td>\n",
              "      <td>150.0</td>\n",
              "      <td>254.0</td>\n",
              "      <td>1.0</td>\n",
              "      <td>2.0</td>\n",
              "      <td>1.9</td>\n",
              "      <td>0.0</td>\n",
              "      <td>0.0</td>\n",
              "      <td>0.0</td>\n",
              "      <td>0.0</td>\n",
              "      <td>1.0</td>\n",
              "    </tr>\n",
              "  </tbody>\n",
              "</table>\n",
              "</div>"
            ],
            "text/plain": [
              "      0    1    2      3      4    5    6    7    8    9   10   11   12\n",
              "0  56.0  0.0  3.0  150.0  254.0  1.0  2.0  1.9  0.0  0.0  0.0  0.0  1.0"
            ]
          },
          "metadata": {
            "tags": []
          },
          "execution_count": 686
        }
      ]
    },
    {
      "cell_type": "code",
      "metadata": {
        "id": "8ezF-i_l1dJs",
        "colab_type": "code",
        "outputId": "4227035c-70f6-4493-aa83-01349492cbc2",
        "colab": {
          "base_uri": "https://localhost:8080/",
          "height": 51
        }
      },
      "source": [
        "# test accuracy obtained.\n",
        "x_test_model=x_test_model.values\n",
        "\n",
        "#y_test=y_test.values\n",
        "y_pred = perceptron.predict( x_test_model )\n",
        "if( y_pred == 1):\n",
        "  print(\"Based on the values, there is a chance of heart disease.\\n you need to make changes to your lifestlye\")\n",
        "if( y_pred == 0):\n",
        "  print(\"Based on the values, there is not a chance of heart disease.\\n\")"
      ],
      "execution_count": 0,
      "outputs": [
        {
          "output_type": "stream",
          "text": [
            "Based on the values, there is a chance of heart disease.\n",
            " you need to make changes to your lifestlye\n"
          ],
          "name": "stdout"
        }
      ]
    },
    {
      "cell_type": "code",
      "metadata": {
        "id": "mg84KRXfJRpy",
        "colab_type": "code",
        "colab": {}
      },
      "source": [
        ""
      ],
      "execution_count": 0,
      "outputs": []
    }
  ]
}